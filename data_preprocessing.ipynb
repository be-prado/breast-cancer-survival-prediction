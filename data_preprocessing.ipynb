{
 "cells": [
  {
   "cell_type": "markdown",
   "id": "24df1e38",
   "metadata": {},
   "source": [
    "# Preprocessing Data"
   ]
  },
  {
   "cell_type": "markdown",
   "id": "2562eaee",
   "metadata": {},
   "source": [
    "## Import Libraries"
   ]
  },
  {
   "cell_type": "code",
   "execution_count": 1,
   "id": "56ed5b58",
   "metadata": {},
   "outputs": [],
   "source": [
    "import csv\n",
    "import numpy as np\n",
    "import pandas as pd\n",
    "\n",
    "tsv_file = open(\"brca_metabric_clinical_data.tsv\")\n",
    "read_tsv = csv.reader(tsv_file, delimiter=\"\\t\")"
   ]
  },
  {
   "cell_type": "code",
   "execution_count": 2,
   "id": "bf2e5646",
   "metadata": {},
   "outputs": [],
   "source": [
    "content=np.array([l for l in read_tsv])\n",
    "content1=content.copy()\n",
    "features=content[0,:]\n",
    "data=content[1:,:]"
   ]
  },
  {
   "cell_type": "markdown",
   "id": "020befef",
   "metadata": {},
   "source": [
    "## Checking if certain features are relevant or not\n",
    "\n",
    "Certain features such as \"sex\" or \"cancer type\" only had one value for all the instances in the data. We remove these features from our dataset. "
   ]
  },
  {
   "cell_type": "code",
   "execution_count": 3,
   "id": "c185819d",
   "metadata": {},
   "outputs": [],
   "source": [
    "## Check the number of missing values before the index 1986\n",
    "#n_init,d_init=content.shape\n",
    "#counts=np.zeros(d_init)\n",
    "#for j in range(d_init):\n",
    "#    for i in range(1,1986):\n",
    "#        if content[i,j]=='NA':\n",
    "#            counts[j]+=1\n",
    "    #print(j,features[j],counts[j])"
   ]
  },
  {
   "cell_type": "code",
   "execution_count": 4,
   "id": "c31ef823",
   "metadata": {},
   "outputs": [],
   "source": [
    "## Check if the feature \"sex\" is relevant\n",
    "#count_notfemale = 0\n",
    "#for i in range(1,1986):\n",
    "#    if content[i,33] != 'Female':\n",
    "#        count_notfemale += 1\n",
    "#print(count_notfemale)\n"
   ]
  },
  {
   "cell_type": "code",
   "execution_count": 5,
   "id": "1883c0f0",
   "metadata": {},
   "outputs": [],
   "source": [
    "## Check if the feature \"cancer type\" is relevant\n",
    "count_notbreastcancer = 0\n",
    "for i in range(1,1986):\n",
    "    if content[i,5] != 'Breast Cancer':\n",
    "        count_notbreastcancer += 1\n",
    "        #print(content[i,5])\n",
    "\n",
    "## Since breast sarcoma is a very rare kind of breast cancer - \n",
    "## we will consider it the same and remove this feature as well\n",
    "\n",
    "## Number of samples per patient = Primary for all instances\n",
    "## Sample type is primary for all instances\n"
   ]
  },
  {
   "cell_type": "markdown",
   "id": "fb8dfcd2",
   "metadata": {},
   "source": [
    "## Removing unwanted features and indices \n",
    "\n",
    "Since we plan to implement supervised learning algorithms, we need the value for overall survival status for all instances. We remove the instances with missing overall survival status. \n",
    "We also replace the string 'NA' with the numpy value NaN for easier identification of missing values. "
   ]
  },
  {
   "cell_type": "code",
   "execution_count": 6,
   "id": "cf16faf1",
   "metadata": {},
   "outputs": [],
   "source": [
    "## Check indices with 'NA' values for overall survival status\n",
    "indices_remove = np.zeros(4)\n",
    "j = 0\n",
    "for i in range(1986):\n",
    "    if content[i,26] == 'NA':\n",
    "        indices_remove[j] = i\n",
    "        j+=1\n",
    "#print(indices_remove)"
   ]
  },
  {
   "cell_type": "code",
   "execution_count": 7,
   "id": "51711f83",
   "metadata": {},
   "outputs": [],
   "source": [
    "## Creating new data \n",
    "## first 1986 patient entries\n",
    "data = content[1:1986,:]\n",
    "##df=df.drop(index=[i for i in range(n-1) if df['Study ID'].loc[i]!='brca_metabric'])\n",
    "df = pd.DataFrame(data,columns=features)\n",
    "\n",
    "## Replace NA with NaN\n",
    "df.replace('NA',np.nan, inplace=True)\n"
   ]
  },
  {
   "cell_type": "code",
   "execution_count": 8,
   "id": "5499dd01",
   "metadata": {},
   "outputs": [],
   "source": [
    "## Removing the unwanted features and indices_remove\n",
    "df=df.drop(index = indices_remove, columns=['Study ID','Patient ID','Sample ID', 'Cancer Type', 'Number of Samples Per Patient',\n",
    "                    'Sample Type', 'Sex', 'Tumor Stage', 'Relapse Free Status (Months)'])\n",
    "features=df.columns\n",
    "df = df.reset_index()\n",
    "df = df.drop('index', 1)\n",
    "n,d=df.shape"
   ]
  },
  {
   "cell_type": "markdown",
   "id": "33519d52",
   "metadata": {},
   "source": [
    "## Removing the indices with survival record less than 10 years\n",
    "\n"
   ]
  },
  {
   "cell_type": "code",
   "execution_count": 9,
   "id": "bd521289",
   "metadata": {},
   "outputs": [],
   "source": [
    "## remove survival for less than 10 years\n",
    "n, d = df.shape\n",
    "for i in range(n):\n",
    "    if df['Overall Survival (Months)'].isna()[i]:\n",
    "        df = df.drop(i)\n",
    "    elif float(df['Overall Survival (Months)'][i]) < 10*12 and df['Overall Survival Status'][i] == '0:LIVING':\n",
    "        df = df.drop(i)\n",
    "    elif float(df['Overall Survival (Months)'][i]) >= 10*12:\n",
    "        df['Overall Survival Status'][i] = 1\n",
    "\n",
    "## reset row indexes\n",
    "df = df.reset_index()\n",
    "df = df.drop('index', 1)\n",
    "\n",
    "## replace living for 1 and deceased for -1\n",
    "df.replace('0:LIVING',1, inplace = True)\n",
    "df.replace('1:DECEASED',-1, inplace = True)\n",
    "\n",
    "## remove redundant columns about survival\n",
    "df = df.drop(['Overall Survival (Months)', 'Patient\\'s Vital Status'],1)\n",
    "\n",
    "## rename column for survival after 6 months\n",
    "df = df.rename(columns={\"Overall Survival Status\": \"Survival After 10 Years\"})"
   ]
  },
  {
   "cell_type": "markdown",
   "id": "8c1a0f4b",
   "metadata": {},
   "source": [
    "## Replacing missing values for numerical features\n",
    "\n",
    "The missing values for numerical features are replaced by the average of the feature over all instances "
   ]
  },
  {
   "cell_type": "code",
   "execution_count": 10,
   "id": "4bd4535d",
   "metadata": {},
   "outputs": [],
   "source": [
    "# find numerical features\n",
    "num_feat = ['Age at Diagnosis', 'Neoplasm Histologic Grade', 'Lymph nodes examined positive', 'Mutation Count', \n",
    "            'Nottingham prognostic index', 'Tumor Size']\n",
    "\n",
    "k = len(num_feat)\n",
    "means = np.zeros(k)\n",
    "#print(df['Age at Diagnosis'][df['Age at Diagnosis'].notna()])\n",
    "for i in range(k):\n",
    "    # array of numerical values\n",
    "    num_values = np.asfarray(df[num_feat[i]][df[num_feat[i]].notna()],float)\n",
    "    mean = np.mean(num_values)\n",
    "    # mean of values\n",
    "    means[i] = mean\n",
    "    # replace NaN with means\n",
    "    df[num_feat[i]].replace(np.nan, means[i], inplace=True)\n"
   ]
  },
  {
   "cell_type": "code",
   "execution_count": 11,
   "id": "972b6c05",
   "metadata": {},
   "outputs": [],
   "source": [
    "#df_ohe = pd.get_dummies(df[features[1]],prefix = features[1])\n",
    "## pd.concat\n",
    "#df_ohe"
   ]
  },
  {
   "cell_type": "markdown",
   "id": "086082e8",
   "metadata": {},
   "source": [
    "## Converting textual data to numerical data\n",
    "\n",
    "We use one-hot encoding for converting textual features with less than 3 values to numerical features. The instances with values among positive/negative, left/right, yes/no, low/medium/high are easy to convert using one-hot encoding. We use Panda's built-in function get.dummies to implement this. \n",
    "\n",
    "We use label encoding for all other non-numerical features. "
   ]
  },
  {
   "cell_type": "code",
   "execution_count": 12,
   "id": "7c6fa2a9",
   "metadata": {},
   "outputs": [],
   "source": [
    "## Create a list of indices with numerical features \n",
    "## Create a list of indices with non-numerical features\n",
    "\n",
    "## Non numerical features with <= 3 values for one-hot encoding\n",
    "non_num_feat = ['ER Status', 'Type of Breast Surgery', 'Cellularity', 'Chemotherapy', 'ER status measured by IHC', \n",
    "                    'HER2 Status',  'Hormone Therapy', 'Inferred Menopausal State', 'Primary Tumor Laterality',\n",
    "                    'PR Status', 'Radio Therapy', 'Relapse Free Status']\n",
    "\n",
    "df = pd.get_dummies(df, prefix = non_num_feat, columns = non_num_feat)\n",
    "\n",
    "#for i in FeaturesIndices_NonNumericalValues:\n",
    "#    df[features[i]] = pd.get_dummies(df[features[i]], prefix = features[i], drop_first = True)"
   ]
  },
  {
   "cell_type": "code",
   "execution_count": 13,
   "id": "eab35f3f",
   "metadata": {},
   "outputs": [],
   "source": [
    "## replace feature Integrative Cluster values\n",
    "df.replace(\"4ER-\", 3.7, inplace = True)\n",
    "df.replace(\"4ER+\", 4.3,  inplace = True)"
   ]
  },
  {
   "cell_type": "code",
   "execution_count": 14,
   "id": "e75b8903",
   "metadata": {},
   "outputs": [],
   "source": [
    "## update features\n",
    "features = df.columns.values"
   ]
  },
  {
   "cell_type": "code",
   "execution_count": 15,
   "id": "00a17b00",
   "metadata": {},
   "outputs": [],
   "source": [
    "## replace categorical variables with many categories\n",
    "\n",
    "cat_var = ['Cancer Type Detailed', 'Pam50 + Claudin-low subtype', 'HER2 status measured by SNP6',\n",
    "               'Tumor Other Histologic Subtype', 'Oncotree Code', '3-Gene classifier subtype']\n",
    "\n",
    "#set(df['Cancer Type Detailed'].values)\n",
    "\n",
    "for label in cat_var:\n",
    "    # set of categories\n",
    "    cats = set(df[label].values)\n",
    "    # number of categories\n",
    "    #k = len(cats)\n",
    "    # replace the categories in this label\n",
    "    i = 1\n",
    "    for cat in cats:\n",
    "        df[label].replace(cat, i, inplace = True)\n",
    "        # update count of categories\n",
    "        i += 1\n",
    "\n",
    "df.replace(np.nan, 0, inplace = True)\n",
    "    "
   ]
  },
  {
   "cell_type": "code",
   "execution_count": 16,
   "id": "7f458946",
   "metadata": {},
   "outputs": [],
   "source": [
    "df.to_csv(\"preprocessed_dataset.tsv\")\n",
    "df.to_csv(\"preprocessed_dataset.csv\")"
   ]
  },
  {
   "cell_type": "code",
   "execution_count": 17,
   "id": "bba4169f",
   "metadata": {},
   "outputs": [
    {
     "data": {
      "text/plain": [
       "758"
      ]
     },
     "execution_count": 17,
     "metadata": {},
     "output_type": "execute_result"
    }
   ],
   "source": [
    "n, d = df.shape\n",
    "\n",
    "count = 0\n",
    "for i in range(n):\n",
    "    if df[\"Survival After 10 Years\"].isin([-1])[i]:\n",
    "        count+=1\n",
    "count"
   ]
  },
  {
   "cell_type": "code",
   "execution_count": 18,
   "id": "22a554eb",
   "metadata": {},
   "outputs": [
    {
     "data": {
      "text/plain": [
       "0       1\n",
       "1       1\n",
       "2       1\n",
       "3      -1\n",
       "4      -1\n",
       "       ..\n",
       "1706    1\n",
       "1707   -1\n",
       "1708    1\n",
       "1709   -1\n",
       "1710    1\n",
       "Name: Survival After 10 Years, Length: 1711, dtype: int64"
      ]
     },
     "execution_count": 18,
     "metadata": {},
     "output_type": "execute_result"
    }
   ],
   "source": [
    "df['Survival After 10 Years']"
   ]
  },
  {
   "cell_type": "code",
   "execution_count": null,
   "id": "fcc5c2ac",
   "metadata": {},
   "outputs": [],
   "source": []
  }
 ],
 "metadata": {
  "kernelspec": {
   "display_name": "Python 3",
   "language": "python",
   "name": "python3"
  },
  "language_info": {
   "codemirror_mode": {
    "name": "ipython",
    "version": 3
   },
   "file_extension": ".py",
   "mimetype": "text/x-python",
   "name": "python",
   "nbconvert_exporter": "python",
   "pygments_lexer": "ipython3",
   "version": "3.8.8"
  }
 },
 "nbformat": 4,
 "nbformat_minor": 5
}
