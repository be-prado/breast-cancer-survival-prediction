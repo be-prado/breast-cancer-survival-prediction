{
 "cells": [
  {
   "cell_type": "markdown",
   "id": "4d4f2a21",
   "metadata": {},
   "source": [
    "# ML Project code"
   ]
  },
  {
   "cell_type": "markdown",
   "id": "a96f60f4",
   "metadata": {},
   "source": [
    "## Importing data and libraries"
   ]
  },
  {
   "cell_type": "code",
   "execution_count": 1,
   "id": "05119eab",
   "metadata": {},
   "outputs": [],
   "source": [
    "import numpy as np\n",
    "import csv\n",
    "import math\n",
    "from sklearn.metrics.pairwise import rbf_kernel, linear_kernel\n",
    "from sklearn.linear_model import Lasso\n",
    "from sklearn.linear_model import LogisticRegression as LR\n",
    "from sklearn.kernel_ridge import KernelRidge\n",
    "from sklearn.ensemble import RandomForestClassifier as RF\n",
    "from sklearn.svm import SVC\n",
    "import matplotlib.pyplot as plt\n",
    "import matplotlib"
   ]
  },
  {
   "cell_type": "markdown",
   "id": "cc53cb77",
   "metadata": {},
   "source": [
    "### Creating array of dataset"
   ]
  },
  {
   "cell_type": "code",
   "execution_count": 2,
   "id": "113413f5",
   "metadata": {},
   "outputs": [],
   "source": [
    "x_dataset = []\n",
    "y_dataset = []\n",
    "\n",
    "with open('preprocessed_dataset.tsv', 'r') as preprocessed_data:\n",
    "    preprocessed_data_reader = csv.reader(preprocessed_data)\n",
    "    headers = next(preprocessed_data_reader)\n",
    "#    for row in preprocessed_data_reader:\n",
    "#        row = [float(string) for string in row]\n",
    "#        row[0] = int(row[0])\n",
    "#        x_row = []\n",
    "#        for i in range(1,41):\n",
    "#            if i != 12:\n",
    "#                x_row.append(row[i])\n",
    "#        x_dataset.append(x_row)\n",
    "#        y_dataset.append(row[12])"
   ]
  },
  {
   "cell_type": "code",
   "execution_count": 3,
   "id": "119ecca4",
   "metadata": {},
   "outputs": [],
   "source": [
    "features = headers[1:]\n",
    "#X_dataset = np.array(x_dataset)\n",
    "#Y_dataset = np.array(y_dataset)\n",
    "#np.shape(X_dataset)\n"
   ]
  },
  {
   "cell_type": "code",
   "execution_count": 4,
   "id": "4493cd03",
   "metadata": {},
   "outputs": [
    {
     "data": {
      "text/plain": [
       "'Survival After 10 Years'"
      ]
     },
     "execution_count": 4,
     "metadata": {},
     "output_type": "execute_result"
    }
   ],
   "source": [
    "data = np.genfromtxt('preprocessed_dataset.tsv',dtype = 'float', delimiter=\",\", skip_header=1)\n",
    "data = data[:,1:]\n",
    "Y_dataset = data[:,12]\n",
    "X_dataset = np.delete(np.copy(data), 12, 1)\n",
    "\n",
    "y_feature = features[12]\n",
    "x_features = features.copy()\n",
    "x_features.pop(12)"
   ]
  },
  {
   "cell_type": "code",
   "execution_count": 5,
   "id": "e6f4ac4b",
   "metadata": {},
   "outputs": [],
   "source": [
    "## We want to divide data into 8:2 ratio \n",
    "index = 1558\n",
    "[x_train,x,x_test] = np.split(X_dataset, [index,index], axis=0)\n",
    "[y_train,y,y_test] = np.split(Y_dataset, [index,index])"
   ]
  },
  {
   "cell_type": "code",
   "execution_count": 6,
   "id": "5efd281e",
   "metadata": {},
   "outputs": [],
   "source": [
    "#x_train[14]"
   ]
  },
  {
   "cell_type": "code",
   "execution_count": 7,
   "id": "915b8b1c",
   "metadata": {},
   "outputs": [],
   "source": [
    "#parameters = np.linspace(1,100,num = 100)\n",
    "#score_array = np.zeros(100)\n",
    "\n",
    "\n",
    "#for i in range(100):\n",
    "#    lasso = Lasso(parameters[i], selection = 'random')\n",
    "#    lasso.fit(x_train, y_train)\n",
    "#    score_array[i] = lasso.score(x_test, y_test, sample_weight=None)\n",
    "\n",
    "#best_param = parameters[np.argmin(score_array)]"
   ]
  },
  {
   "cell_type": "code",
   "execution_count": 8,
   "id": "1fd3d881",
   "metadata": {},
   "outputs": [],
   "source": [
    "#best_lasso = Lasso(best_param, selection = 'random')\n",
    "#best_lasso.fit(x_train, y_train)\n",
    "#print(best_lasso.feature_names_in_)"
   ]
  },
  {
   "cell_type": "markdown",
   "id": "293fce40",
   "metadata": {},
   "source": [
    "## L1 Logistic Regression and Kernelized SVM"
   ]
  },
  {
   "cell_type": "code",
   "execution_count": 9,
   "id": "862b59af",
   "metadata": {},
   "outputs": [],
   "source": [
    "#parameters = np.linspace(1,100,num = 100)\n",
    "cycles = 50\n",
    "\n",
    "# parameters ranges\n",
    "kpara_range = np.logspace(-1,1,10)\n",
    "reg_range = np.linspace(1, 100, 10)"
   ]
  },
  {
   "cell_type": "code",
   "execution_count": 10,
   "id": "c7809a19",
   "metadata": {},
   "outputs": [
    {
     "name": "stdout",
     "output_type": "stream",
     "text": [
      "Fold 1 starting...\n",
      "Halfway there!\n",
      "Ooph! Fold 1 finally done!\n",
      "\n",
      "Fold 2 starting...\n",
      "Halfway there!\n",
      "Ooph! Fold 2 finally done!\n",
      "\n",
      "Fold 3 starting...\n",
      "Halfway there!\n",
      "Ooph! Fold 3 finally done!\n",
      "\n",
      "Fold 4 starting...\n",
      "Halfway there!\n",
      "Ooph! Fold 4 finally done!\n",
      "\n",
      "Fold 5 starting...\n",
      "Halfway there!\n",
      "Ooph! Fold 5 finally done!\n",
      "\n"
     ]
    }
   ],
   "source": [
    "# shape of training data\n",
    "n,d = np.shape(x_train)\n",
    "randomized_indices = np.random.permutation(np.arange(n))\n",
    "# number of folds\n",
    "K = 5\n",
    "\n",
    "k = n//K\n",
    "indices = []\n",
    "for i in range(4):\n",
    "    indices.append(randomized_indices[i*k:(i+1)*k])\n",
    "indices.append(randomized_indices[3*k:n])\n",
    "\n",
    "l1_reg_scores = np.zeros(10)\n",
    "svm_scores = np.zeros((10,10))\n",
    "\n",
    "\n",
    "# loop through folds for parameter tunning\n",
    "for k in range(K):\n",
    "    print(\"Fold\", k+1, \"starting...\")\n",
    "    # created test and validation sets\n",
    "    X = np.copy(x_train)\n",
    "    y = np.copy(y_train)\n",
    "    np.delete(X,indices[k],0)\n",
    "    np.delete(y,indices[k],0)\n",
    "    \n",
    "    for reg in range(10):\n",
    "        if reg == 5:\n",
    "            print(\"Halfway there!\")\n",
    "\n",
    "        for kpara in range(10):\n",
    "            \n",
    "            # Kernelized SVM\n",
    "            svm = SVC(C = 1/reg_range[reg], kernel = 'rbf', gamma = kpara_range[kpara])\n",
    "            svm.fit(X,y)\n",
    "            \n",
    "            # compute score\n",
    "            svm_scores[reg,kpara] += svm.score(x_train[indices[k]],y_train[indices[k]])\n",
    "    \n",
    "        # L1 logistic regression\n",
    "        l1_reg = LR(penalty='l1', C = 1/reg_range[reg], solver = 'liblinear')\n",
    "        l1_reg.fit(X,y)\n",
    "        \n",
    "        # compute score\n",
    "        score = l1_reg.score(x_train[indices[k]], y_train[indices[k]])\n",
    "        #print(score)\n",
    "        l1_reg_scores[reg] += score\n",
    "        \n",
    "    print(\"Ooph! Fold\", k+1, \"finally done!\\n\")"
   ]
  },
  {
   "cell_type": "markdown",
   "id": "d7e1661c",
   "metadata": {},
   "source": [
    "### Analysis, graphs and visualization"
   ]
  },
  {
   "cell_type": "code",
   "execution_count": 11,
   "id": "c593e5e5",
   "metadata": {},
   "outputs": [
    {
     "name": "stdout",
     "output_type": "stream",
     "text": [
      "1.0\n",
      "[12.0, 0.1]\n"
     ]
    }
   ],
   "source": [
    "# identify best parameters \n",
    "best_l1_reg_param = reg_range[np.argmax(l1_reg_scores)]\n",
    "print(best_l1_reg_param)\n",
    "best_svm_param = [reg_range[np.argmax(svm_scores[0])],kpara_range[np.argmax(svm_scores[1])]]\n",
    "print(best_svm_param)"
   ]
  },
  {
   "cell_type": "code",
   "execution_count": 12,
   "id": "7bffdc3a",
   "metadata": {},
   "outputs": [
    {
     "name": "stdout",
     "output_type": "stream",
     "text": [
      "[3.78872283 3.77592283 3.72455305 3.68766045 3.63624437 3.62659807\n",
      " 3.6169672  3.60893633 3.62819807 3.60733633]\n",
      "[[4.99356913 5.         5.         5.         5.         5.\n",
      "  5.         5.         5.         5.        ]\n",
      " [2.78038842 2.78038842 2.78038842 2.78038842 2.78038842 2.78038842\n",
      "  2.78038842 2.78038842 2.78038842 2.78038842]\n",
      " [2.78038842 2.78038842 2.78038842 2.78038842 2.78038842 2.78038842\n",
      "  2.78038842 2.78038842 2.78038842 2.78038842]\n",
      " [2.78038842 2.78038842 2.78038842 2.78038842 2.78038842 2.78038842\n",
      "  2.78038842 2.78038842 2.78038842 2.78038842]\n",
      " [2.78038842 2.78038842 2.78038842 2.78038842 2.78038842 2.78038842\n",
      "  2.78038842 2.78038842 2.78038842 2.78038842]\n",
      " [2.78038842 2.78038842 2.78038842 2.78038842 2.78038842 2.78038842\n",
      "  2.78038842 2.78038842 2.78038842 2.78038842]\n",
      " [2.78038842 2.78038842 2.78038842 2.78038842 2.78038842 2.78038842\n",
      "  2.78038842 2.78038842 2.78038842 2.78038842]\n",
      " [2.78038842 2.78038842 2.78038842 2.78038842 2.78038842 2.78038842\n",
      "  2.78038842 2.78038842 2.78038842 2.78038842]\n",
      " [2.78038842 2.78038842 2.78038842 2.78038842 2.78038842 2.78038842\n",
      "  2.78038842 2.78038842 2.78038842 2.78038842]\n",
      " [2.78038842 2.78038842 2.78038842 2.78038842 2.78038842 2.78038842\n",
      "  2.78038842 2.78038842 2.78038842 2.78038842]]\n"
     ]
    }
   ],
   "source": [
    "print(l1_reg_scores)\n",
    "print(svm_scores)"
   ]
  },
  {
   "cell_type": "code",
   "execution_count": 13,
   "id": "2d7c12cd",
   "metadata": {},
   "outputs": [
    {
     "data": {
      "image/png": "[encoded data removed]",
      "text/plain": [
       "<Figure size 432x288 with 1 Axes>"
      ]
     },
     "metadata": {
      "needs_background": "light"
     },
     "output_type": "display_data"
    }
   ],
   "source": [
    "## plot score results for cross validation to determine regularization parameter\n",
    "plt.plot(reg_range,l1_reg_scores)\n",
    "plt.title('Cross validation score for L1 Logistic Regretion per Regularization Weight')\n",
    "plt.xlabel('Regularization parameter')\n",
    "plt.ylabel('Cross validation score')\n",
    "plt.savefig('l1_cross_validation_plot.png')"
   ]
  },
  {
   "cell_type": "code",
   "execution_count": 14,
   "id": "f9fd91f5",
   "metadata": {},
   "outputs": [
    {
     "data": {
      "image/png": "[encoded data removed]",
      "text/plain": [
       "<Figure size 432x288 with 1 Axes>"
      ]
     },
     "metadata": {
      "needs_background": "light"
     },
     "output_type": "display_data"
    }
   ],
   "source": [
    "## plot score results for cross validation to determine regularization parameter\n",
    "plt.plot(reg_range,svm_scores)\n",
    "plt.title('Cross validation score for Kernelized SVM per Regularization Weight')\n",
    "plt.xlabel('Regularization parameter')\n",
    "plt.ylabel('Cross validation score')\n",
    "plt.savefig('svm_cross_validation_plot.png')"
   ]
  },
  {
   "cell_type": "code",
   "execution_count": 15,
   "id": "216096b8",
   "metadata": {},
   "outputs": [
    {
     "name": "stdout",
     "output_type": "stream",
     "text": [
      "Score of Kernelized SVM 0.5751633986928104\n",
      "Score of L1 Logistic Regression 0.7320261437908496\n",
      "L1 Logistic Regression weights: [[-0.00903915  0.01875587  0.0920997   0.          0.          0.\n",
      "   0.          0.01378957 -0.08529411  0.          0.          0.\n",
      "   0.         -0.00948657  0.          0.          0.          0.\n",
      "   0.          0.          0.          0.          0.          0.\n",
      "   0.          0.          0.          0.          0.          0.\n",
      "   0.          0.          0.          0.          0.          0.\n",
      "   0.          0.91475985  0.        ]]\n"
     ]
    }
   ],
   "source": [
    "# fit best parameter into L1 Logistic Regression and Kernelized Ridge Regression\n",
    "# from graphs above, we decided to choose the parameter _lambda = 90 for \n",
    "# L1 logistic regression and 12 for kernelizer ridge regression.\n",
    "\n",
    "best_svm = SVC(C = 1/12, kernel = 'rbf', gamma = 0.1)\n",
    "best_svm.fit(x_train, y_train)\n",
    "# accuracy\n",
    "print(\"Score of Kernelized SVM\", best_svm.score(x_test,y_test))\n",
    "\n",
    "best_l1_reg = LR(penalty='l1', C = 1/90, solver = 'liblinear')\n",
    "best_l1_reg.fit(x_train, y_train)\n",
    "# accuracy\n",
    "print(\"Score of L1 Logistic Regression\", best_l1_reg.score(x_test,y_test))\n",
    "# weights\n",
    "print(\"L1 Logistic Regression weights:\", best_l1_reg.coef_)\n",
    "#print(best_lasso.feature_names_in_)\n"
   ]
  },
  {
   "cell_type": "code",
   "execution_count": 16,
   "id": "acb76133",
   "metadata": {},
   "outputs": [
    {
     "name": "stdout",
     "output_type": "stream",
     "text": [
      "0.7320261437908496\n",
      "Important features:  ['Age at Diagnosis' 'Cancer Type Detailed' 'Pam50 + Claudin-low subtype'\n",
      " 'Integrative Cluster' 'Lymph nodes examined positive' 'Tumor Size'\n",
      " 'Relapse Free Status_0:Not Recurred']\n"
     ]
    }
   ],
   "source": [
    "score = best_l1_reg.score(x_test,y_test)\n",
    "print(score)\n",
    "nonzero_indices = np.nonzero(best_l1_reg.coef_)\n",
    "x_features = np.copy(x_features)\n",
    "print(\"Important features: \" , x_features[nonzero_indices[1]])"
   ]
  },
  {
   "cell_type": "markdown",
   "id": "d44325de",
   "metadata": {},
   "source": [
    "## Random Forrest"
   ]
  },
  {
   "cell_type": "code",
   "execution_count": 22,
   "id": "9cb02b9d",
   "metadata": {},
   "outputs": [
    {
     "data": {
      "text/plain": [
       "RandomForestClassifier(max_depth=5, n_estimators=600)"
      ]
     },
     "execution_count": 22,
     "metadata": {},
     "output_type": "execute_result"
    }
   ],
   "source": [
    "tree_param = 600\n",
    "tree_score = 0\n",
    "\n",
    "\n",
    "rf = RF(n_estimators = tree_param, max_depth=5)\n",
    "rf.fit(x_train, y_train)"
   ]
  },
  {
   "cell_type": "markdown",
   "id": "c1892b4c",
   "metadata": {},
   "source": [
    "### Analysis Graphs and visualization"
   ]
  },
  {
   "cell_type": "code",
   "execution_count": 23,
   "id": "c00481a1",
   "metadata": {},
   "outputs": [
    {
     "name": "stdout",
     "output_type": "stream",
     "text": [
      "Random forests score: 0.7777777777777778\n"
     ]
    }
   ],
   "source": [
    "# compute score\n",
    "tree_score = rf.score(x_test,y_test)\n",
    "print(\"Random forests score:\", tree_score)\n",
    "\n",
    "prediction = rf.predict(x_test)"
   ]
  },
  {
   "cell_type": "code",
   "execution_count": 24,
   "id": "25275aba",
   "metadata": {},
   "outputs": [
    {
     "name": "stdout",
     "output_type": "stream",
     "text": [
      "Relapse Free Status_0:Not Recurred\n"
     ]
    }
   ],
   "source": [
    "print(features[np.argmax(rf.feature_importances_)])"
   ]
  },
  {
   "cell_type": "code",
   "execution_count": 29,
   "id": "020dcf01",
   "metadata": {},
   "outputs": [
    {
     "name": "stdout",
     "output_type": "stream",
     "text": [
      "Most important features for random forests:\n",
      "Relapse Free Status_0:Not Recurred\n",
      "Radio Therapy_YES\n",
      "Age at Diagnosis\n",
      "Mutation Count\n",
      "Integrative Cluster\n"
     ]
    }
   ],
   "source": [
    "# top k features\n",
    "k=5\n",
    "\n",
    "print('Most important features for random forests:')\n",
    "feat_imp = rf.feature_importances_\n",
    "for i in range(k):\n",
    "    index = np.argmax(feat_imp)\n",
    "    print(features[index])\n",
    "    feat_imp = np.delete(feat_imp, index)\n",
    "\n"
   ]
  },
  {
   "cell_type": "code",
   "execution_count": null,
   "id": "e56f2ef1",
   "metadata": {},
   "outputs": [],
   "source": []
  }
 ],
 "metadata": {
  "kernelspec": {
   "display_name": "Python 3",
   "language": "python",
   "name": "python3"
  },
  "language_info": {
   "codemirror_mode": {
    "name": "ipython",
    "version": 3
   },
   "file_extension": ".py",
   "mimetype": "text/x-python",
   "name": "python",
   "nbconvert_exporter": "python",
   "pygments_lexer": "ipython3",
   "version": "3.8.8"
  }
 },
 "nbformat": 4,
 "nbformat_minor": 5
}
